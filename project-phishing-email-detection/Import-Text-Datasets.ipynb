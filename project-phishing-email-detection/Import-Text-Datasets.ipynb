{
 "cells": [
  {
   "cell_type": "markdown",
   "metadata": {},
   "source": [
    "## Import Libraries"
   ]
  },
  {
   "cell_type": "code",
   "execution_count": 1,
   "metadata": {},
   "outputs": [],
   "source": [
    "import os\n",
    "import random\n",
    "import pandas as pd\n",
    "import numpy as np\n",
    "import raw_utils as util\n",
    "import eml_parser\n",
    "import csv\n",
    "random.seed(1746)"
   ]
  },
  {
   "cell_type": "markdown",
   "metadata": {},
   "source": [
    "## Phishing"
   ]
  },
  {
   "cell_type": "markdown",
   "metadata": {},
   "source": [
    "### Nazario Phishing Corpus"
   ]
  },
  {
   "cell_type": "code",
   "execution_count": 2,
   "metadata": {},
   "outputs": [],
   "source": [
    "# Paths\n",
    "cwd = os.getcwd()\n",
    "nazario_path = os.path.join(cwd, 'datasets/phishing/nazario/')\n",
    "enron_path = os.path.join(cwd, 'datasets/legitimate/enron/')\n",
    "\n",
    "csv_path = os.path.join(cwd, 'datasets/csv/')"
   ]
  },
  {
   "cell_type": "code",
   "execution_count": 3,
   "metadata": {},
   "outputs": [],
   "source": [
    "# Files to be ignored for read_dataset()\n",
    "files_ignored_recent = ['README.txt', '20051114.mbox',  'phishing0.mbox',  'phishing1.mbox',  'phishing2.mbox',  'phishing3.mbox', 'private-phishing4.mbox']"
   ]
  },
  {
   "cell_type": "code",
   "execution_count": 4,
   "metadata": {},
   "outputs": [
    {
     "name": "stdout",
     "output_type": "stream",
     "text": [
      "Now reading file: phishing-2016\n"
     ]
    },
    {
     "name": "stderr",
     "output_type": "stream",
     "text": [
      "/home/khanhnguyen/Public/workspace/python_3.10/newenv/lib/python3.10/site-packages/bs4/builder/__init__.py:545: XMLParsedAsHTMLWarning: It looks like you're parsing an XML document using an HTML parser. If this really is an HTML document (maybe it's XHTML?), you can ignore or filter this warning. If it's XML, you should know that using an XML parser will be more reliable. To parse this document as XML, make sure you have the lxml package installed, and pass the keyword argument `features=\"xml\"` into the BeautifulSoup constructor.\n",
      "  warnings.warn(\n"
     ]
    },
    {
     "name": "stdout",
     "output_type": "stream",
     "text": [
      "Now reading file: phishing-2019\n",
      "Now reading file: phishing-2021\n",
      "Now reading file: phishing-2018\n",
      "Now reading file: phishing-2020\n",
      "Now reading file: phishing-2024\n",
      "Now reading file: phishing-2023\n",
      "Now reading file: phishing-2015\n",
      "Now reading file: phishing-2022\n",
      "Now reading file: phishing-2017\n"
     ]
    }
   ],
   "source": [
    "phishingMessageBodies = []\n",
    "phishing_recent = util.read_dataset(nazario_path, files_ignored_recent, text_only=True)\n",
    "phishingMessageBodies = phishing_recent['body'].tolist()"
   ]
  },
  {
   "cell_type": "code",
   "execution_count": 5,
   "metadata": {},
   "outputs": [
    {
     "name": "stdout",
     "output_type": "stream",
     "text": [
      "Phishing messages:  2770\n"
     ]
    },
    {
     "data": {
      "text/plain": [
       "(2770, 1)"
      ]
     },
     "execution_count": 5,
     "metadata": {},
     "output_type": "execute_result"
    }
   ],
   "source": [
    "print(\"Phishing messages: \", len(phishingMessageBodies))\n",
    "phishing_recent.shape"
   ]
  },
  {
   "cell_type": "code",
   "execution_count": 6,
   "metadata": {},
   "outputs": [
    {
     "name": "stdout",
     "output_type": "stream",
     "text": [
      "File /home/khanhnguyen/Public/workspace/python_3.10/project-phishing-email-detection/datasets/csv/nazario_recent.csv already exists.\n",
      "File /home/khanhnguyen/Public/workspace/python_3.10/project-phishing-email-detection/datasets/csv/nazario_recent.csv will be overwritten.\n"
     ]
    }
   ],
   "source": [
    "util.save_to_csv(phishing_recent, csv_path, 'nazario_recent.csv')"
   ]
  },
  {
   "cell_type": "code",
   "execution_count": 7,
   "metadata": {},
   "outputs": [
    {
     "name": "stdout",
     "output_type": "stream",
     "text": [
      "3740\n"
     ]
    }
   ],
   "source": [
    "# Clair Fraud Email Database\n",
    "added = []\n",
    "with open(\"datasets/phishing/fradulent_emails.txt\", 'r', errors=\"ignore\") as f:\n",
    "    body = \"\"\n",
    "    inBody = False\n",
    "    for line in f:\n",
    "        if line.startswith(\"Status: O\"):\n",
    "            inBody = True\n",
    "        \n",
    "        elif line.startswith(\"From r\") and len(body) > 0:\n",
    "            inBody = False\n",
    "            added.append(body)\n",
    "            body = \"\"\n",
    "\n",
    "        elif inBody:\n",
    "            body += line\n",
    "\n",
    "\n",
    "# convert list to dataframe\n",
    "phishing_clair = pd.DataFrame(added, columns=['body'])\n",
    "phishingMessageBodies = list(set(phishingMessageBodies + [a for a in added if len(a) > 0]))\n",
    "print(len(phishingMessageBodies))"
   ]
  },
  {
   "cell_type": "code",
   "execution_count": 8,
   "metadata": {},
   "outputs": [
    {
     "data": {
      "text/html": [
       "<div>\n",
       "<style scoped>\n",
       "    .dataframe tbody tr th:only-of-type {\n",
       "        vertical-align: middle;\n",
       "    }\n",
       "\n",
       "    .dataframe tbody tr th {\n",
       "        vertical-align: top;\n",
       "    }\n",
       "\n",
       "    .dataframe thead th {\n",
       "        text-align: right;\n",
       "    }\n",
       "</style>\n",
       "<table border=\"1\" class=\"dataframe\">\n",
       "  <thead>\n",
       "    <tr style=\"text-align: right;\">\n",
       "      <th></th>\n",
       "      <th>body</th>\n",
       "    </tr>\n",
       "  </thead>\n",
       "  <tbody>\n",
       "    <tr>\n",
       "      <th>0</th>\n",
       "      <td>\\nFROM:MR. JAMES NGOLA.\\nCONFIDENTIAL TEL: 233...</td>\n",
       "    </tr>\n",
       "    <tr>\n",
       "      <th>1</th>\n",
       "      <td>\\nDear Friend,\\n\\nI am Mr. Ben Suleman a custo...</td>\n",
       "    </tr>\n",
       "    <tr>\n",
       "      <th>2</th>\n",
       "      <td>\\nDear Sir,\\n\\nI am Barrister Tunde Dosumu (SA...</td>\n",
       "    </tr>\n",
       "    <tr>\n",
       "      <th>3</th>\n",
       "      <td>\\nFROM: WILLIAM DRALLO.\\nCONFIDENTIAL TEL: 233...</td>\n",
       "    </tr>\n",
       "    <tr>\n",
       "      <th>4</th>\n",
       "      <td>\\nCHALLENGE SECURITIES LTD.\\nLAGOS, NIGERIA\\n\\...</td>\n",
       "    </tr>\n",
       "  </tbody>\n",
       "</table>\n",
       "</div>"
      ],
      "text/plain": [
       "                                                body\n",
       "0  \\nFROM:MR. JAMES NGOLA.\\nCONFIDENTIAL TEL: 233...\n",
       "1  \\nDear Friend,\\n\\nI am Mr. Ben Suleman a custo...\n",
       "2  \\nDear Sir,\\n\\nI am Barrister Tunde Dosumu (SA...\n",
       "3  \\nFROM: WILLIAM DRALLO.\\nCONFIDENTIAL TEL: 233...\n",
       "4  \\nCHALLENGE SECURITIES LTD.\\nLAGOS, NIGERIA\\n\\..."
      ]
     },
     "execution_count": 8,
     "metadata": {},
     "output_type": "execute_result"
    }
   ],
   "source": [
    "phishing_clair.head()"
   ]
  },
  {
   "cell_type": "code",
   "execution_count": 10,
   "metadata": {},
   "outputs": [
    {
     "name": "stdout",
     "output_type": "stream",
     "text": [
      "File /home/khanhnguyen/Public/workspace/python_3.10/project-phishing-email-detection/datasets/csv/fradulent_emails.csv already exists.\n",
      "File /home/khanhnguyen/Public/workspace/python_3.10/project-phishing-email-detection/datasets/csv/fradulent_emails.csv will be overwritten.\n"
     ]
    }
   ],
   "source": [
    "util.save_to_csv(phishing_clair, csv_path, 'fradulent_emails.csv')"
   ]
  },
  {
   "cell_type": "code",
   "execution_count": 11,
   "metadata": {},
   "outputs": [
    {
     "name": "stderr",
     "output_type": "stream",
     "text": [
      "FROM header parsing failed.\n",
      "FROM header parsing failed.\n",
      "Header field \"message-id\" is in an invalid format and cannot be fixed, it will be dropped.\n",
      "Header field \"message-id\" is in an invalid format and cannot be fixed, it will be dropped.\n",
      "FROM header parsing failed.\n",
      "FROM header parsing failed.\n",
      "Header field \"message-id\" is in an invalid format and cannot be fixed, it will be dropped.\n",
      "Header field \"message-id\" is in an invalid format and cannot be fixed, it will be dropped.\n",
      "FROM header parsing failed.\n"
     ]
    },
    {
     "name": "stdout",
     "output_type": "stream",
     "text": [
      "Files ignored due to errors: ['datasets/phishing/spam_2/spam_2/01214.973b4598b630a989967ff69b19f95d4a', 'datasets/phishing/spam_2/spam_2/00357.049b1dd678979ce56f10dfa9632127a3']\n",
      "4929\n"
     ]
    }
   ],
   "source": [
    "# SpamAssassin Spam (not exactly phishing, but NVIDIA article used it as phishing so attempting it)\n",
    "ep = eml_parser.EmlParser(include_raw_body=True)\n",
    "\n",
    "spamDir = \"datasets/phishing/spam_2/spam_2/\"\n",
    "spamFilenames = [os.path.join(spamDir, f) for f in os.listdir(spamDir)]\n",
    "\n",
    "added = []\n",
    "files_ignored = []\n",
    "\n",
    "for filename in spamFilenames:\n",
    "    try:\n",
    "        with open(filename, \"rb\") as f:\n",
    "            b = f.read()\n",
    "        \n",
    "        m = ep.decode_email_bytes(b)\n",
    "        if len(m[\"body\"]) >= 1:\n",
    "            body_content = m[\"body\"][0][\"content\"]\n",
    "            content_type = m[\"body\"][0].get(\"content_type\", \"text/plain\")\n",
    "\n",
    "            # Kiểm tra loại nội dung (text/plain hoặc text/html)\n",
    "            if content_type == \"text/plain\":\n",
    "                added.append(body_content.strip())\n",
    "            elif content_type == \"text/html\":\n",
    "                clean_content = util.parse_html(body_content)\n",
    "                added.append(clean_content)\n",
    "        else:\n",
    "            files_ignored.append(filename)\n",
    "    except Exception as e:\n",
    "        files_ignored.append(filename)\n",
    "\n",
    "print(\"Files ignored due to errors:\", files_ignored)\n",
    "\n",
    "    \n",
    "spam = pd.DataFrame(added, columns=['body'])\n",
    "phishingMessageBodies = list(set(phishingMessageBodies + added))\n",
    "print(len(phishingMessageBodies))"
   ]
  },
  {
   "cell_type": "code",
   "execution_count": 12,
   "metadata": {},
   "outputs": [
    {
     "data": {
      "text/html": [
       "<div>\n",
       "<style scoped>\n",
       "    .dataframe tbody tr th:only-of-type {\n",
       "        vertical-align: middle;\n",
       "    }\n",
       "\n",
       "    .dataframe tbody tr th {\n",
       "        vertical-align: top;\n",
       "    }\n",
       "\n",
       "    .dataframe thead th {\n",
       "        text-align: right;\n",
       "    }\n",
       "</style>\n",
       "<table border=\"1\" class=\"dataframe\">\n",
       "  <thead>\n",
       "    <tr style=\"text-align: right;\">\n",
       "      <th></th>\n",
       "      <th>body</th>\n",
       "    </tr>\n",
       "  </thead>\n",
       "  <tbody>\n",
       "    <tr>\n",
       "      <th>0</th>\n",
       "      <td>Hunza Bread\\nHunza Bread\\nHome made Hunza Brea...</td>\n",
       "    </tr>\n",
       "    <tr>\n",
       "      <th>1</th>\n",
       "      <td>Learn from the BEST...for FREE! \\n\\nLearn to l...</td>\n",
       "    </tr>\n",
       "    <tr>\n",
       "      <th>2</th>\n",
       "      <td>NOW ON SALE FOR $129.00  10 100 MG TABLETS\\n\\n...</td>\n",
       "    </tr>\n",
       "    <tr>\n",
       "      <th>3</th>\n",
       "      <td>NEW PRODUCT ANNOUNCEMENT\\n\\nFrom: OUTSOURCE EN...</td>\n",
       "    </tr>\n",
       "    <tr>\n",
       "      <th>4</th>\n",
       "      <td>Hello ~name~,\\n\\nIf you ordered a flat-rate do...</td>\n",
       "    </tr>\n",
       "  </tbody>\n",
       "</table>\n",
       "</div>"
      ],
      "text/plain": [
       "                                                body\n",
       "0  Hunza Bread\\nHunza Bread\\nHome made Hunza Brea...\n",
       "1  Learn from the BEST...for FREE! \\n\\nLearn to l...\n",
       "2  NOW ON SALE FOR $129.00  10 100 MG TABLETS\\n\\n...\n",
       "3  NEW PRODUCT ANNOUNCEMENT\\n\\nFrom: OUTSOURCE EN...\n",
       "4  Hello ~name~,\\n\\nIf you ordered a flat-rate do..."
      ]
     },
     "execution_count": 12,
     "metadata": {},
     "output_type": "execute_result"
    }
   ],
   "source": [
    "spam.head()"
   ]
  },
  {
   "cell_type": "code",
   "execution_count": 14,
   "metadata": {},
   "outputs": [
    {
     "name": "stdout",
     "output_type": "stream",
     "text": [
      "Saving to /home/khanhnguyen/Public/workspace/python_3.10/project-phishing-email-detection/datasets/csv/spamassassin.csv\n"
     ]
    }
   ],
   "source": [
    "attempted_filename = os.path.join(csv_path, 'spamassassin.csv')\n",
    "if os.path.exists(attempted_filename):\n",
    "    print(\"File\", attempted_filename, \"already exists.\")\n",
    "    overwrite = input(\"Do you want to overwrite it? (y/n) \")\n",
    "    if (overwrite == 'Y' or overwrite == 'y'):\n",
    "        print(\"File\", attempted_filename, \"will be overwritten.\")\n",
    "        spam.to_csv(os.path.join(csv_path, 'spamassasin.csv'), escapechar='\\\\')\n",
    "    else:\n",
    "        print(\"Aborting, data will not be written.\")\n",
    "else:\n",
    "    print(\"Saving to\", attempted_filename)\n",
    "    spam.to_csv(os.path.join(csv_path, 'spamassasin.csv'), escapechar='\\\\')\n"
   ]
  },
  {
   "cell_type": "code",
   "execution_count": 15,
   "metadata": {},
   "outputs": [],
   "source": [
    "phishingDataFrame = pd.DataFrame(phishingMessageBodies, columns=['body'])"
   ]
  },
  {
   "cell_type": "code",
   "execution_count": 17,
   "metadata": {},
   "outputs": [
    {
     "name": "stdout",
     "output_type": "stream",
     "text": [
      "File /home/khanhnguyen/Public/workspace/python_3.10/project-phishing-email-detection/datasets/csv/raw_phishing.csv already exists.\n",
      "File /home/khanhnguyen/Public/workspace/python_3.10/project-phishing-email-detection/datasets/csv/raw_phishing.csv will be overwritten.\n"
     ]
    }
   ],
   "source": [
    "attempted_filename = os.path.join(csv_path, 'raw_phishing.csv')\n",
    "if os.path.exists(attempted_filename):\n",
    "    print(\"File\", attempted_filename, \"already exists.\")\n",
    "    overwrite = input(\"Do you want to overwrite it? (y/n) \")\n",
    "    if (overwrite == 'Y' or overwrite == 'y'):\n",
    "        print(\"File\", attempted_filename, \"will be overwritten.\")\n",
    "        phishingDataFrame.to_csv(os.path.join(csv_path, 'raw_phishing.csv'), escapechar='\\\\')\n",
    "    else:\n",
    "        print(\"Aborting, data will not be written.\")\n",
    "else:\n",
    "    print(\"Saving to\", attempted_filename)\n",
    "    phishingDataFrame.to_csv(os.path.join(csv_path, 'raw_phishing.csv'), escapechar='\\\\')"
   ]
  },
  {
   "cell_type": "markdown",
   "metadata": {},
   "source": [
    "## Legitimate"
   ]
  },
  {
   "cell_type": "markdown",
   "metadata": {},
   "source": [
    "### Easy ham and Hard ham"
   ]
  },
  {
   "cell_type": "code",
   "execution_count": 18,
   "metadata": {},
   "outputs": [],
   "source": [
    "legitimateMessageBodies = []"
   ]
  },
  {
   "cell_type": "code",
   "execution_count": 19,
   "metadata": {},
   "outputs": [
    {
     "name": "stderr",
     "output_type": "stream",
     "text": [
      "Header field \"message-id\" is in an invalid format and cannot be fixed, it will be dropped.\n",
      "Header field \"message-id\" is in an invalid format and cannot be fixed, it will be dropped.\n",
      "Header field \"message-id\" is in an invalid format and cannot be fixed, it will be dropped.\n",
      "Header field \"message-id\" is in an invalid format and cannot be fixed, it will be dropped.\n",
      "Header field \"message-id\" is in an invalid format and cannot be fixed, it will be dropped.\n",
      "Header field \"message-id\" is in an invalid format and cannot be fixed, it will be dropped.\n",
      "Header field \"message-id\" is in an invalid format and cannot be fixed, it will be dropped.\n",
      "Header field \"message-id\" is in an invalid format and cannot be fixed, it will be dropped.\n",
      "Header field \"message-id\" is in an invalid format and cannot be fixed, it will be dropped.\n",
      "Header field \"message-id\" is in an invalid format and cannot be fixed, it will be dropped.\n",
      "Header field \"message-id\" is in an invalid format and cannot be fixed, it will be dropped.\n",
      "Header field \"message-id\" is in an invalid format and cannot be fixed, it will be dropped.\n",
      "Header field \"message-id\" is in an invalid format and cannot be fixed, it will be dropped.\n",
      "Header field \"message-id\" is in an invalid format and cannot be fixed, it will be dropped.\n",
      "Header field \"message-id\" is in an invalid format and cannot be fixed, it will be dropped.\n",
      "Header field \"message-id\" is in an invalid format and cannot be fixed, it will be dropped.\n",
      "Header field \"message-id\" is in an invalid format and cannot be fixed, it will be dropped.\n",
      "Header field \"message-id\" is in an invalid format and cannot be fixed, it will be dropped.\n",
      "Header field \"message-id\" is in an invalid format and cannot be fixed, it will be dropped.\n",
      "Header field \"message-id\" is in an invalid format and cannot be fixed, it will be dropped.\n",
      "Header field \"message-id\" is in an invalid format and cannot be fixed, it will be dropped.\n",
      "Header field \"message-id\" is in an invalid format and cannot be fixed, it will be dropped.\n",
      "Header field \"message-id\" is in an invalid format and cannot be fixed, it will be dropped.\n",
      "Header field \"message-id\" is in an invalid format and cannot be fixed, it will be dropped.\n",
      "Header field \"message-id\" is in an invalid format and cannot be fixed, it will be dropped.\n",
      "Header field \"message-id\" is in an invalid format and cannot be fixed, it will be dropped.\n",
      "Header field \"message-id\" is in an invalid format and cannot be fixed, it will be dropped.\n",
      "Header field \"message-id\" is in an invalid format and cannot be fixed, it will be dropped.\n",
      "Header field \"message-id\" is in an invalid format and cannot be fixed, it will be dropped.\n",
      "Header field \"message-id\" is in an invalid format and cannot be fixed, it will be dropped.\n",
      "Header field \"message-id\" is in an invalid format and cannot be fixed, it will be dropped.\n",
      "Header field \"message-id\" is in an invalid format and cannot be fixed, it will be dropped.\n",
      "Header field \"message-id\" is in an invalid format and cannot be fixed, it will be dropped.\n",
      "Header field \"message-id\" is in an invalid format and cannot be fixed, it will be dropped.\n",
      "Header field \"message-id\" is in an invalid format and cannot be fixed, it will be dropped.\n",
      "Header field \"message-id\" is in an invalid format and cannot be fixed, it will be dropped.\n",
      "Header field \"message-id\" is in an invalid format and cannot be fixed, it will be dropped.\n",
      "Header field \"message-id\" is in an invalid format and cannot be fixed, it will be dropped.\n",
      "Header field \"message-id\" is in an invalid format and cannot be fixed, it will be dropped.\n",
      "Header field \"message-id\" is in an invalid format and cannot be fixed, it will be dropped.\n",
      "Header field \"message-id\" is in an invalid format and cannot be fixed, it will be dropped.\n",
      "Header field \"message-id\" is in an invalid format and cannot be fixed, it will be dropped.\n",
      "Header field \"message-id\" is in an invalid format and cannot be fixed, it will be dropped.\n",
      "Header field \"message-id\" is in an invalid format and cannot be fixed, it will be dropped.\n",
      "Header field \"message-id\" is in an invalid format and cannot be fixed, it will be dropped.\n",
      "Header field \"message-id\" is in an invalid format and cannot be fixed, it will be dropped.\n",
      "Header field \"message-id\" is in an invalid format and cannot be fixed, it will be dropped.\n",
      "Header field \"message-id\" is in an invalid format and cannot be fixed, it will be dropped.\n",
      "Header field \"message-id\" is in an invalid format and cannot be fixed, it will be dropped.\n",
      "Header field \"message-id\" is in an invalid format and cannot be fixed, it will be dropped.\n",
      "Header field \"message-id\" is in an invalid format and cannot be fixed, it will be dropped.\n",
      "Header field \"message-id\" is in an invalid format and cannot be fixed, it will be dropped.\n",
      "Header field \"message-id\" is in an invalid format and cannot be fixed, it will be dropped.\n",
      "Header field \"message-id\" is in an invalid format and cannot be fixed, it will be dropped.\n",
      "Header field \"message-id\" is in an invalid format and cannot be fixed, it will be dropped.\n",
      "Header field \"message-id\" is in an invalid format and cannot be fixed, it will be dropped.\n",
      "Header field \"message-id\" is in an invalid format and cannot be fixed, it will be dropped.\n",
      "Header field \"message-id\" is in an invalid format and cannot be fixed, it will be dropped.\n",
      "Header field \"message-id\" is in an invalid format and cannot be fixed, it will be dropped.\n",
      "Header field \"message-id\" is in an invalid format and cannot be fixed, it will be dropped.\n",
      "Header field \"message-id\" is in an invalid format and cannot be fixed, it will be dropped.\n",
      "Header field \"message-id\" is in an invalid format and cannot be fixed, it will be dropped.\n",
      "Header field \"message-id\" is in an invalid format and cannot be fixed, it will be dropped.\n",
      "Header field \"message-id\" is in an invalid format and cannot be fixed, it will be dropped.\n",
      "Header field \"message-id\" is in an invalid format and cannot be fixed, it will be dropped.\n",
      "Header field \"message-id\" is in an invalid format and cannot be fixed, it will be dropped.\n",
      "Header field \"message-id\" is in an invalid format and cannot be fixed, it will be dropped.\n",
      "Header field \"message-id\" is in an invalid format and cannot be fixed, it will be dropped.\n",
      "Header field \"message-id\" is in an invalid format and cannot be fixed, it will be dropped.\n",
      "Header field \"message-id\" is in an invalid format and cannot be fixed, it will be dropped.\n",
      "Header field \"message-id\" is in an invalid format and cannot be fixed, it will be dropped.\n",
      "Header field \"message-id\" is in an invalid format and cannot be fixed, it will be dropped.\n",
      "Header field \"message-id\" is in an invalid format and cannot be fixed, it will be dropped.\n",
      "Header field \"message-id\" is in an invalid format and cannot be fixed, it will be dropped.\n",
      "Header field \"message-id\" is in an invalid format and cannot be fixed, it will be dropped.\n",
      "Header field \"message-id\" is in an invalid format and cannot be fixed, it will be dropped.\n",
      "Header field \"message-id\" is in an invalid format and cannot be fixed, it will be dropped.\n",
      "Header field \"message-id\" is in an invalid format and cannot be fixed, it will be dropped.\n",
      "Header field \"message-id\" is in an invalid format and cannot be fixed, it will be dropped.\n",
      "Header field \"message-id\" is in an invalid format and cannot be fixed, it will be dropped.\n",
      "Header field \"message-id\" is in an invalid format and cannot be fixed, it will be dropped.\n",
      "Header field \"message-id\" is in an invalid format and cannot be fixed, it will be dropped.\n",
      "Header field \"message-id\" is in an invalid format and cannot be fixed, it will be dropped.\n",
      "Header field \"message-id\" is in an invalid format and cannot be fixed, it will be dropped.\n",
      "Header field \"message-id\" is in an invalid format and cannot be fixed, it will be dropped.\n",
      "Header field \"message-id\" is in an invalid format and cannot be fixed, it will be dropped.\n",
      "Header field \"message-id\" is in an invalid format and cannot be fixed, it will be dropped.\n",
      "Header field \"message-id\" is in an invalid format and cannot be fixed, it will be dropped.\n",
      "Header field \"message-id\" is in an invalid format and cannot be fixed, it will be dropped.\n",
      "Header field \"message-id\" is in an invalid format and cannot be fixed, it will be dropped.\n",
      "Header field \"message-id\" is in an invalid format and cannot be fixed, it will be dropped.\n",
      "Header field \"message-id\" is in an invalid format and cannot be fixed, it will be dropped.\n",
      "Header field \"message-id\" is in an invalid format and cannot be fixed, it will be dropped.\n",
      "Header field \"message-id\" is in an invalid format and cannot be fixed, it will be dropped.\n",
      "Header field \"message-id\" is in an invalid format and cannot be fixed, it will be dropped.\n",
      "Header field \"message-id\" is in an invalid format and cannot be fixed, it will be dropped.\n",
      "Header field \"message-id\" is in an invalid format and cannot be fixed, it will be dropped.\n",
      "Header field \"message-id\" is in an invalid format and cannot be fixed, it will be dropped.\n",
      "Header field \"message-id\" is in an invalid format and cannot be fixed, it will be dropped.\n",
      "Header field \"message-id\" is in an invalid format and cannot be fixed, it will be dropped.\n",
      "Header field \"message-id\" is in an invalid format and cannot be fixed, it will be dropped.\n",
      "Header field \"message-id\" is in an invalid format and cannot be fixed, it will be dropped.\n",
      "Header field \"message-id\" is in an invalid format and cannot be fixed, it will be dropped.\n",
      "Header field \"message-id\" is in an invalid format and cannot be fixed, it will be dropped.\n",
      "Header field \"message-id\" is in an invalid format and cannot be fixed, it will be dropped.\n",
      "Header field \"message-id\" is in an invalid format and cannot be fixed, it will be dropped.\n",
      "Header field \"message-id\" is in an invalid format and cannot be fixed, it will be dropped.\n",
      "Header field \"message-id\" is in an invalid format and cannot be fixed, it will be dropped.\n",
      "Header field \"message-id\" is in an invalid format and cannot be fixed, it will be dropped.\n",
      "Header field \"message-id\" is in an invalid format and cannot be fixed, it will be dropped.\n",
      "Header field \"message-id\" is in an invalid format and cannot be fixed, it will be dropped.\n",
      "Header field \"message-id\" is in an invalid format and cannot be fixed, it will be dropped.\n",
      "Header field \"message-id\" is in an invalid format and cannot be fixed, it will be dropped.\n",
      "Header field \"message-id\" is in an invalid format and cannot be fixed, it will be dropped.\n",
      "Header field \"message-id\" is in an invalid format and cannot be fixed, it will be dropped.\n",
      "Header field \"message-id\" is in an invalid format and cannot be fixed, it will be dropped.\n",
      "Header field \"message-id\" is in an invalid format and cannot be fixed, it will be dropped.\n",
      "Header field \"message-id\" is in an invalid format and cannot be fixed, it will be dropped.\n",
      "Header field \"message-id\" is in an invalid format and cannot be fixed, it will be dropped.\n",
      "Header field \"message-id\" is in an invalid format and cannot be fixed, it will be dropped.\n",
      "Header field \"message-id\" is in an invalid format and cannot be fixed, it will be dropped.\n",
      "Header field \"message-id\" is in an invalid format and cannot be fixed, it will be dropped.\n"
     ]
    },
    {
     "name": "stdout",
     "output_type": "stream",
     "text": [
      "Files ignored due to errors: []\n",
      "Legitimate messages: 2578\n"
     ]
    }
   ],
   "source": [
    "ep = eml_parser.EmlParser(include_raw_body=True)\n",
    "\n",
    "easyHamDir = \"datasets/legitimate/easy_ham/easy_ham/\"\n",
    "hardHamDir = \"datasets/legitimate/hard_ham/hard_ham/\"\n",
    "hamFilenames = [os.path.join(easyHamDir, f) for f in os.listdir(easyHamDir)] + [os.path.join(hardHamDir, f) for f in os.listdir(hardHamDir)]\n",
    "\n",
    "files_ignored = []\n",
    "\n",
    "for filename in hamFilenames:\n",
    "    with open(filename, \"rb\") as f:\n",
    "        b = f.read()\n",
    "    \n",
    "    m = ep.decode_email_bytes(b)\n",
    "    if len(m[\"body\"]) >= 1:\n",
    "        body_content = m[\"body\"][0][\"content\"]\n",
    "        content_type = m[\"body\"][0].get(\"content_type\", \"text/plain\")\n",
    "\n",
    "        # Kiểm tra loại nội dung (text/plain hoặc text/html)\n",
    "        if content_type == \"text/plain\":\n",
    "            legitimateMessageBodies.append(body_content.strip())\n",
    "        elif content_type == \"text/html\":\n",
    "            clean_content = util.parse_html(body_content)\n",
    "            legitimateMessageBodies.append(clean_content)\n",
    "    else:\n",
    "        files_ignored.append(filename)\n",
    "print(\"Files ignored due to errors:\", files_ignored)\n",
    "\n",
    "\n",
    "benign_mails = pd.DataFrame(legitimateMessageBodies, columns=['body'])\n",
    "print(\"Legitimate messages:\", len(legitimateMessageBodies))"
   ]
  },
  {
   "cell_type": "code",
   "execution_count": 20,
   "metadata": {},
   "outputs": [
    {
     "data": {
      "text/html": [
       "<div>\n",
       "<style scoped>\n",
       "    .dataframe tbody tr th:only-of-type {\n",
       "        vertical-align: middle;\n",
       "    }\n",
       "\n",
       "    .dataframe tbody tr th {\n",
       "        vertical-align: top;\n",
       "    }\n",
       "\n",
       "    .dataframe thead th {\n",
       "        text-align: right;\n",
       "    }\n",
       "</style>\n",
       "<table border=\"1\" class=\"dataframe\">\n",
       "  <thead>\n",
       "    <tr style=\"text-align: right;\">\n",
       "      <th></th>\n",
       "      <th>body</th>\n",
       "    </tr>\n",
       "  </thead>\n",
       "  <tbody>\n",
       "    <tr>\n",
       "      <th>0</th>\n",
       "      <td>Matthias Saou (matthias@rpmforge.net) wrote*:\\...</td>\n",
       "    </tr>\n",
       "    <tr>\n",
       "      <th>1</th>\n",
       "      <td>|:::::::::::::::::::::::::::::::::::::::::::::...</td>\n",
       "    </tr>\n",
       "    <tr>\n",
       "      <th>2</th>\n",
       "      <td>Hello Bill,\\n\\nMonday, September 30, 2002, 5:4...</td>\n",
       "    </tr>\n",
       "    <tr>\n",
       "      <th>3</th>\n",
       "      <td>&gt;&gt;&gt;Chris Garrigues said:\\n &gt; &gt; From:  Brent We...</td>\n",
       "    </tr>\n",
       "    <tr>\n",
       "      <th>4</th>\n",
       "      <td>from slate's \"today's papers\":  \\nThe New York...</td>\n",
       "    </tr>\n",
       "  </tbody>\n",
       "</table>\n",
       "</div>"
      ],
      "text/plain": [
       "                                                body\n",
       "0  Matthias Saou (matthias@rpmforge.net) wrote*:\\...\n",
       "1  |:::::::::::::::::::::::::::::::::::::::::::::...\n",
       "2  Hello Bill,\\n\\nMonday, September 30, 2002, 5:4...\n",
       "3  >>>Chris Garrigues said:\\n > > From:  Brent We...\n",
       "4  from slate's \"today's papers\":  \\nThe New York..."
      ]
     },
     "execution_count": 20,
     "metadata": {},
     "output_type": "execute_result"
    }
   ],
   "source": [
    "benign_mails.head()"
   ]
  },
  {
   "cell_type": "code",
   "execution_count": 21,
   "metadata": {},
   "outputs": [
    {
     "name": "stdout",
     "output_type": "stream",
     "text": [
      "File /home/khanhnguyen/Public/workspace/python_3.10/project-phishing-email-detection/datasets/csv/easy_hard_ham.csv already exists.\n",
      "File /home/khanhnguyen/Public/workspace/python_3.10/project-phishing-email-detection/datasets/csv/easy_hard_ham.csv will be overwritten.\n"
     ]
    }
   ],
   "source": [
    "util.save_to_csv(benign_mails, csv_path, 'easy_hard_ham.csv')"
   ]
  },
  {
   "cell_type": "markdown",
   "metadata": {},
   "source": [
    "### Enron mails"
   ]
  },
  {
   "cell_type": "code",
   "execution_count": 22,
   "metadata": {},
   "outputs": [
    {
     "name": "stdout",
     "output_type": "stream",
     "text": [
      "3028 folders will be checked.\n",
      "300452 emails found.\n",
      "Extracting 4000 random emails.\n",
      "File /home/khanhnguyen/Public/workspace/python_3.10/project-phishing-email-detection/datasets/legitimate/enron/mbox/enron_4000.mbox will be overwritten.\n",
      "1 emails skipped: Headers contain non-ascii characters, or otherwise corrupted email data.\n",
      "/home/khanhnguyen/Public/workspace/python_3.10/project-phishing-email-detection/datasets/legitimate/enron/mbox/enron_4000.mbox was created successfully.\n",
      "File /home/khanhnguyen/Public/workspace/python_3.10/project-phishing-email-detection/datasets/csv/enron_text_4000.csv already exists.\n",
      "File /home/khanhnguyen/Public/workspace/python_3.10/project-phishing-email-detection/datasets/csv/enron_text_4000.csv will be overwritten.\n"
     ]
    }
   ],
   "source": [
    "filename = util.sample_enron_to_mbox(enron_path, 4000)\n",
    "enron_4000 = util.mbox_to_df(filename, enron_path+'/mbox', text_only=True)\n",
    "legitimateMessageBodies += enron_4000['body'].tolist()\n",
    "util.save_to_csv(enron_4000, csv_path, 'enron_text_4000.csv')"
   ]
  },
  {
   "cell_type": "code",
   "execution_count": 23,
   "metadata": {},
   "outputs": [
    {
     "name": "stdout",
     "output_type": "stream",
     "text": [
      "6578\n"
     ]
    }
   ],
   "source": [
    "print(len(legitimateMessageBodies))"
   ]
  },
  {
   "cell_type": "code",
   "execution_count": 24,
   "metadata": {},
   "outputs": [],
   "source": [
    "legitimateDataFrame = pd.DataFrame(legitimateMessageBodies, columns=['body'])"
   ]
  },
  {
   "cell_type": "code",
   "execution_count": 25,
   "metadata": {},
   "outputs": [
    {
     "name": "stdout",
     "output_type": "stream",
     "text": [
      "Saving to /home/khanhnguyen/Public/workspace/python_3.10/project-phishing-email-detection/datasets/csv/raw_legitimate.csv\n"
     ]
    }
   ],
   "source": [
    "util.save_to_csv(legitimateDataFrame, csv_path, 'raw_legitimate.csv')"
   ]
  }
 ],
 "metadata": {
  "kernelspec": {
   "display_name": "newenv",
   "language": "python",
   "name": "python3"
  },
  "language_info": {
   "codemirror_mode": {
    "name": "ipython",
    "version": 3
   },
   "file_extension": ".py",
   "mimetype": "text/x-python",
   "name": "python",
   "nbconvert_exporter": "python",
   "pygments_lexer": "ipython3",
   "version": "3.10.15"
  }
 },
 "nbformat": 4,
 "nbformat_minor": 2
}
