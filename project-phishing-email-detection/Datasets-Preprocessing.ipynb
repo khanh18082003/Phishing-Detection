{
 "cells": [
  {
   "cell_type": "markdown",
   "metadata": {},
   "source": [
    "## Preprocessing"
   ]
  },
  {
   "cell_type": "code",
   "execution_count": 2,
   "metadata": {},
   "outputs": [
    {
     "name": "stderr",
     "output_type": "stream",
     "text": [
      "[nltk_data] Downloading package stopwords to\n",
      "[nltk_data]     /home/khanhnguyen/nltk_data...\n",
      "[nltk_data]   Package stopwords is already up-to-date!\n",
      "[nltk_data] Downloading package vader_lexicon to\n",
      "[nltk_data]     /home/khanhnguyen/nltk_data...\n",
      "[nltk_data]   Package vader_lexicon is already up-to-date!\n"
     ]
    }
   ],
   "source": [
    "import gensim\n",
    "from gensim.models import Word2Vec\n",
    "from gensim.parsing.preprocessing import *\n",
    "# NLP with NLTK\n",
    "import nltk\n",
    "nltk.download(\"stopwords\")\n",
    "nltk.download('vader_lexicon')\n",
    "from nltk.sentiment import SentimentIntensityAnalyzer\n",
    "from nltk.stem.wordnet import WordNetLemmatizer\n",
    "from nltk.corpus import wordnet\n",
    "import os\n",
    "import raw_utils\n",
    "\n",
    "import pandas as pd\n",
    "import preprocessing as util"
   ]
  },
  {
   "cell_type": "code",
   "execution_count": 3,
   "metadata": {},
   "outputs": [],
   "source": [
    "cwd = os.getcwd()\n",
    "csv_path = os.path.join(cwd, 'datasets/csv/')\n",
    "\n",
    "phishing_csv = 'raw_phishing.csv'\n",
    "legitimate_csv = 'raw_legitimate.csv'"
   ]
  },
  {
   "cell_type": "code",
   "execution_count": 4,
   "metadata": {},
   "outputs": [],
   "source": [
    "phishing_text_raw = pd.read_csv(os.path.join(csv_path, phishing_csv), index_col=0, dtype={'body': 'object'})\n",
    "legitimate_text_raw = pd.read_csv(os.path.join(csv_path, legitimate_csv), index_col=0, dtype={'body': 'object'})"
   ]
  },
  {
   "cell_type": "code",
   "execution_count": 5,
   "metadata": {},
   "outputs": [
    {
     "data": {
      "text/html": [
       "<div>\n",
       "<style scoped>\n",
       "    .dataframe tbody tr th:only-of-type {\n",
       "        vertical-align: middle;\n",
       "    }\n",
       "\n",
       "    .dataframe tbody tr th {\n",
       "        vertical-align: top;\n",
       "    }\n",
       "\n",
       "    .dataframe thead th {\n",
       "        text-align: right;\n",
       "    }\n",
       "</style>\n",
       "<table border=\"1\" class=\"dataframe\">\n",
       "  <thead>\n",
       "    <tr style=\"text-align: right;\">\n",
       "      <th></th>\n",
       "      <th>body</th>\n",
       "    </tr>\n",
       "  </thead>\n",
       "  <tbody>\n",
       "    <tr>\n",
       "      <th>0</th>\n",
       "      <td>NaN</td>\n",
       "    </tr>\n",
       "    <tr>\n",
       "      <th>1</th>\n",
       "      <td>Hello nrt5,\\n\\nGeekSquad® Support-Team +1-813-...</td>\n",
       "    </tr>\n",
       "    <tr>\n",
       "      <th>2</th>\n",
       "      <td>\\n&lt;html&gt;\\n&lt;head&gt;\\n\\t&lt;title&gt;&lt;/title&gt;\\n&lt;/head&gt;\\n...</td>\n",
       "    </tr>\n",
       "    <tr>\n",
       "      <th>3</th>\n",
       "      <td>\\n \\n&lt;http://richellebrooks.com/Servsn.htm&gt;</td>\n",
       "    </tr>\n",
       "    <tr>\n",
       "      <th>4</th>\n",
       "      <td>jose@monkey.org, \\n\\nYour mailbox quota is ful...</td>\n",
       "    </tr>\n",
       "  </tbody>\n",
       "</table>\n",
       "</div>"
      ],
      "text/plain": [
       "                                                body\n",
       "0                                                NaN\n",
       "1  Hello nrt5,\\n\\nGeekSquad® Support-Team +1-813-...\n",
       "2  \\n<html>\\n<head>\\n\\t<title></title>\\n</head>\\n...\n",
       "3        \\n \\n<http://richellebrooks.com/Servsn.htm>\n",
       "4  jose@monkey.org, \\n\\nYour mailbox quota is ful..."
      ]
     },
     "execution_count": 5,
     "metadata": {},
     "output_type": "execute_result"
    }
   ],
   "source": [
    "phishing_text_raw.head()"
   ]
  },
  {
   "cell_type": "code",
   "execution_count": 6,
   "metadata": {},
   "outputs": [
    {
     "data": {
      "text/plain": [
       "0       Matthias Saou (matthias@rpmforge.net) wrote*:\\...\n",
       "1       |:::::::::::::::::::::::::::::::::::::::::::::...\n",
       "2       Hello Bill,\\n\\nMonday, September 30, 2002, 5:4...\n",
       "3       >>>Chris Garrigues said:\\n > > From:  Brent We...\n",
       "4       from slate's \"today's papers\":  \\nThe New York...\n",
       "                              ...                        \n",
       "6573     <http://www.sportsline.com/links/6/1/163/sffe...\n",
       "6574    \\nAs much as I'd like to, I can't get to every...\n",
       "6575    Darrell,\\n\\nBen at Conoco would like to know t...\n",
       "6576    Just to keep you in the loop.   I am addressin...\n",
       "6577    I was looking for tommorow.   I'll pass on ton...\n",
       "Name: body, Length: 6578, dtype: object"
      ]
     },
     "execution_count": 6,
     "metadata": {},
     "output_type": "execute_result"
    }
   ],
   "source": [
    "legitimate_text_raw['body']"
   ]
  },
  {
   "cell_type": "markdown",
   "metadata": {},
   "source": [
    "## Cleanup"
   ]
  },
  {
   "cell_type": "code",
   "execution_count": 7,
   "metadata": {},
   "outputs": [
    {
     "data": {
      "text/plain": [
       "(4927, 1)"
      ]
     },
     "execution_count": 7,
     "metadata": {},
     "output_type": "execute_result"
    }
   ],
   "source": [
    "phishing_text_raw = phishing_text_raw.dropna()\n",
    "phishing_text = phishing_text_raw[phishing_text_raw['body'].str.contains(\"This text is part of the internal format of your mail folder, and is not\\na real message.\") == False]\n",
    "phishing_text = phishing_text[phishing_text.duplicated(keep='first') == False]\n",
    "phishing_text.shape"
   ]
  },
  {
   "cell_type": "code",
   "execution_count": 8,
   "metadata": {},
   "outputs": [
    {
     "data": {
      "text/plain": [
       "(6373, 1)"
      ]
     },
     "execution_count": 8,
     "metadata": {},
     "output_type": "execute_result"
    }
   ],
   "source": [
    "legitimate_text_raw = legitimate_text_raw.dropna()\n",
    "legitimate_text = legitimate_text_raw[legitimate_text_raw['body'].str.contains(\"This text is part of the internal format of your mail folder, and is not\\na real message.\") == False]\n",
    "legitimate_text = legitimate_text[legitimate_text.duplicated(keep='first') == False]\n",
    "legitimate_text.shape"
   ]
  },
  {
   "cell_type": "code",
   "execution_count": 9,
   "metadata": {},
   "outputs": [],
   "source": [
    "phishing_text['body'] = phishing_text['body'].apply(util.replace_email)\n",
    "phishing_text['body'] = phishing_text['body'].apply(util.replace_url)"
   ]
  },
  {
   "cell_type": "code",
   "execution_count": 10,
   "metadata": {},
   "outputs": [],
   "source": [
    "legitimate_text['body'] = legitimate_text['body'].apply(util.replace_email)\n",
    "legitimate_text['body'] = legitimate_text['body'].apply(util.replace_url)"
   ]
  },
  {
   "cell_type": "code",
   "execution_count": 11,
   "metadata": {},
   "outputs": [],
   "source": [
    "# Custom stop words and preprocessing filters\n",
    "\n",
    "stopWords = nltk.corpus.stopwords\n",
    "stopWords = stopWords.words(\"english\")\n",
    "stopWords.extend([\"nbsp\", \"font\", \"sans\", \"serif\", \"bold\", \"arial\", \"verdana\", \"helvetica\", \"http\", \"https\", \"www\", \"html\", \"enron\", \"margin\", \"spamassassin\"])\n",
    "\n",
    "def remove_custom_stopwords(p):\n",
    "    return remove_stopwords(p, stopwords=stopWords)\n",
    "\n",
    "def get_wordnet_pos(treebank_tag):\n",
    "    if treebank_tag.startswith('J'):\n",
    "        return wordnet.ADJ\n",
    "    elif treebank_tag.startswith('V'):\n",
    "        return wordnet.VERB\n",
    "    elif treebank_tag.startswith('N'):\n",
    "        return wordnet.NOUN\n",
    "    elif treebank_tag.startswith('R'):\n",
    "        return wordnet.ADV\n",
    "    else:\n",
    "        return None\n",
    "def lemmatize(text):\n",
    "    lemmatizer = WordNetLemmatizer()\n",
    "    tokens = nltk.word_tokenize(text)\n",
    "    tagged_tokens = nltk.pos_tag(tokens)\n",
    "\n",
    "    lemmatized_tokens = [\n",
    "        lemmatizer.lemmatize(word, pos=get_wordnet_pos(tag))\n",
    "        if get_wordnet_pos(tag)\n",
    "        else lemmatizer.lemmatize(word)\n",
    "        for word, tag in tagged_tokens\n",
    "    ]\n",
    "    return ' '.join(lemmatized_tokens)\n",
    "stem_text\n",
    "CUSTOM_FILTERS = [lambda x: x.lower(), strip_tags, strip_punctuation, strip_multiple_whitespaces, strip_numeric, remove_custom_stopwords, remove_stopwords, strip_short, lemmatize]"
   ]
  },
  {
   "cell_type": "code",
   "execution_count": 12,
   "metadata": {},
   "outputs": [],
   "source": [
    "# Decode to utf-8 as needed\n",
    "\n",
    "phishingDecoded = []\n",
    "for b in phishing_text['body'].tolist():\n",
    "    try:\n",
    "        p = b.decode(\"utf-8\", errors=\"ignore\")\n",
    "    except AttributeError:\n",
    "        p = b\n",
    "    phishingDecoded.append(p)\n",
    "\n",
    "legitimateDecoded = []\n",
    "for b in legitimate_text['body'].tolist():\n",
    "    try:\n",
    "        p = b.decode(\"utf-8\", errors=\"ignore\")\n",
    "    except AttributeError:\n",
    "        p = b\n",
    "    legitimateDecoded.append(p)"
   ]
  },
  {
   "cell_type": "code",
   "execution_count": 13,
   "metadata": {},
   "outputs": [
    {
     "name": "stdout",
     "output_type": "stream",
     "text": [
      "4927\n"
     ]
    }
   ],
   "source": [
    "# Phishing emails\n",
    "phishingPreprocessed = []\n",
    "for b in phishingDecoded:\n",
    "    p = preprocess_string(b, filters=CUSTOM_FILTERS)\n",
    "    \n",
    "    phishingPreprocessed.append(p)\n",
    "print(len(phishingPreprocessed))"
   ]
  },
  {
   "cell_type": "code",
   "execution_count": 14,
   "metadata": {},
   "outputs": [
    {
     "name": "stdout",
     "output_type": "stream",
     "text": [
      "6373\n"
     ]
    }
   ],
   "source": [
    "# legitimate emails\n",
    "legitimatePreprocessed = []\n",
    "for b in legitimateDecoded:\n",
    "    p = preprocess_string(b, filters=CUSTOM_FILTERS)\n",
    "    \n",
    "    legitimatePreprocessed.append(p)\n",
    "print(len(legitimatePreprocessed))"
   ]
  },
  {
   "cell_type": "code",
   "execution_count": 15,
   "metadata": {},
   "outputs": [],
   "source": [
    "# Lọc và loại bỏ các token list rỗng\n",
    "phishingPreprocessed = [tokens for tokens in phishingPreprocessed if tokens]\n",
    "\n",
    "# Chuyển danh sách 2 chiều thành danh sách 1 chiều với định dạng chuỗi\n",
    "phishingPreprocessed = [str(tokens) for tokens in phishingPreprocessed]\n",
    "phishingDataFrame = pd.DataFrame(phishingPreprocessed, columns=['body'])\n",
    "phishingDataFrame['label'] = 1\n",
    "phishingDataFrame = phishingDataFrame[['label', 'body']]"
   ]
  },
  {
   "cell_type": "code",
   "execution_count": 16,
   "metadata": {},
   "outputs": [
    {
     "data": {
      "text/html": [
       "<div>\n",
       "<style scoped>\n",
       "    .dataframe tbody tr th:only-of-type {\n",
       "        vertical-align: middle;\n",
       "    }\n",
       "\n",
       "    .dataframe tbody tr th {\n",
       "        vertical-align: top;\n",
       "    }\n",
       "\n",
       "    .dataframe thead th {\n",
       "        text-align: right;\n",
       "    }\n",
       "</style>\n",
       "<table border=\"1\" class=\"dataframe\">\n",
       "  <thead>\n",
       "    <tr style=\"text-align: right;\">\n",
       "      <th></th>\n",
       "      <th>label</th>\n",
       "      <th>body</th>\n",
       "    </tr>\n",
       "  </thead>\n",
       "  <tbody>\n",
       "    <tr>\n",
       "      <th>0</th>\n",
       "      <td>1</td>\n",
       "      <td>['hello', 'nrt', 'geeksquad®', 'support', 'tea...</td>\n",
       "    </tr>\n",
       "    <tr>\n",
       "      <th>1</th>\n",
       "      <td>1</td>\n",
       "      <td>['verify', 'mailbox', 'dear', 'mail', 'account...</td>\n",
       "    </tr>\n",
       "    <tr>\n",
       "      <th>2</th>\n",
       "      <td>1</td>\n",
       "      <td>['mailbox', 'quota', 'cause', 'mailbox', 'impa...</td>\n",
       "    </tr>\n",
       "    <tr>\n",
       "      <th>3</th>\n",
       "      <td>1</td>\n",
       "      <td>['hinton', 'dropbox', 'share', 'file', 'click'...</td>\n",
       "    </tr>\n",
       "    <tr>\n",
       "      <th>4</th>\n",
       "      <td>1</td>\n",
       "      <td>['educate', 'want', 'know', 'satellite', 'rca'...</td>\n",
       "    </tr>\n",
       "  </tbody>\n",
       "</table>\n",
       "</div>"
      ],
      "text/plain": [
       "   label                                               body\n",
       "0      1  ['hello', 'nrt', 'geeksquad®', 'support', 'tea...\n",
       "1      1  ['verify', 'mailbox', 'dear', 'mail', 'account...\n",
       "2      1  ['mailbox', 'quota', 'cause', 'mailbox', 'impa...\n",
       "3      1  ['hinton', 'dropbox', 'share', 'file', 'click'...\n",
       "4      1  ['educate', 'want', 'know', 'satellite', 'rca'..."
      ]
     },
     "execution_count": 16,
     "metadata": {},
     "output_type": "execute_result"
    }
   ],
   "source": [
    "phishingDataFrame.head()"
   ]
  },
  {
   "cell_type": "code",
   "execution_count": 17,
   "metadata": {},
   "outputs": [],
   "source": [
    "legitimatePreprocessed = [tokens for tokens in legitimatePreprocessed if tokens]\n",
    "legitimatePreprocessed = [str(tokens) for tokens in legitimatePreprocessed]\n",
    "legitimateDataFrame = pd.DataFrame(legitimatePreprocessed, columns=['body'])\n",
    "legitimateDataFrame['label'] = 0\n",
    "# Đổi thứ tự cột sao cho 'label' đứng trước 'body'\n",
    "legitimateDataFrame = legitimateDataFrame[['label', 'body']]"
   ]
  },
  {
   "cell_type": "code",
   "execution_count": 18,
   "metadata": {},
   "outputs": [
    {
     "data": {
      "text/html": [
       "<div>\n",
       "<style scoped>\n",
       "    .dataframe tbody tr th:only-of-type {\n",
       "        vertical-align: middle;\n",
       "    }\n",
       "\n",
       "    .dataframe tbody tr th {\n",
       "        vertical-align: top;\n",
       "    }\n",
       "\n",
       "    .dataframe thead th {\n",
       "        text-align: right;\n",
       "    }\n",
       "</style>\n",
       "<table border=\"1\" class=\"dataframe\">\n",
       "  <thead>\n",
       "    <tr style=\"text-align: right;\">\n",
       "      <th></th>\n",
       "      <th>label</th>\n",
       "      <th>body</th>\n",
       "    </tr>\n",
       "  </thead>\n",
       "  <tbody>\n",
       "    <tr>\n",
       "      <th>0</th>\n",
       "      <td>0</td>\n",
       "      <td>['matthias', 'saou', 'write', 'install', 'xmms...</td>\n",
       "    </tr>\n",
       "    <tr>\n",
       "      <th>1</th>\n",
       "      <td>0</td>\n",
       "      <td>['monday', 'september', 'student', 'life', 'be...</td>\n",
       "    </tr>\n",
       "    <tr>\n",
       "      <th>2</th>\n",
       "      <td>0</td>\n",
       "      <td>['hello', 'monday', 'september', 'write', 'thi...</td>\n",
       "    </tr>\n",
       "    <tr>\n",
       "      <th>3</th>\n",
       "      <td>0</td>\n",
       "      <td>['chris', 'garrigues', 'say', 'brent', 'welch'...</td>\n",
       "    </tr>\n",
       "    <tr>\n",
       "      <th>4</th>\n",
       "      <td>0</td>\n",
       "      <td>['slate', 'today', 'paper', 'new', 'york', 'ti...</td>\n",
       "    </tr>\n",
       "  </tbody>\n",
       "</table>\n",
       "</div>"
      ],
      "text/plain": [
       "   label                                               body\n",
       "0      0  ['matthias', 'saou', 'write', 'install', 'xmms...\n",
       "1      0  ['monday', 'september', 'student', 'life', 'be...\n",
       "2      0  ['hello', 'monday', 'september', 'write', 'thi...\n",
       "3      0  ['chris', 'garrigues', 'say', 'brent', 'welch'...\n",
       "4      0  ['slate', 'today', 'paper', 'new', 'york', 'ti..."
      ]
     },
     "execution_count": 18,
     "metadata": {},
     "output_type": "execute_result"
    }
   ],
   "source": [
    "legitimateDataFrame.head()"
   ]
  },
  {
   "cell_type": "code",
   "execution_count": 19,
   "metadata": {},
   "outputs": [
    {
     "data": {
      "text/html": [
       "<div>\n",
       "<style scoped>\n",
       "    .dataframe tbody tr th:only-of-type {\n",
       "        vertical-align: middle;\n",
       "    }\n",
       "\n",
       "    .dataframe tbody tr th {\n",
       "        vertical-align: top;\n",
       "    }\n",
       "\n",
       "    .dataframe thead th {\n",
       "        text-align: right;\n",
       "    }\n",
       "</style>\n",
       "<table border=\"1\" class=\"dataframe\">\n",
       "  <thead>\n",
       "    <tr style=\"text-align: right;\">\n",
       "      <th></th>\n",
       "      <th>label</th>\n",
       "      <th>body</th>\n",
       "    </tr>\n",
       "  </thead>\n",
       "  <tbody>\n",
       "    <tr>\n",
       "      <th>0</th>\n",
       "      <td>1</td>\n",
       "      <td>['content', 'type', 'text', 'charset', 'iso', ...</td>\n",
       "    </tr>\n",
       "    <tr>\n",
       "      <th>1</th>\n",
       "      <td>1</td>\n",
       "      <td>['jose', 'password', 'expire', 'kindly', 'upda...</td>\n",
       "    </tr>\n",
       "    <tr>\n",
       "      <th>2</th>\n",
       "      <td>0</td>\n",
       "      <td>['new', 'software', 'feature', 'like', 'theate...</td>\n",
       "    </tr>\n",
       "    <tr>\n",
       "      <th>3</th>\n",
       "      <td>1</td>\n",
       "      <td>['message', 'trust', 'sender', 'apple', 'accou...</td>\n",
       "    </tr>\n",
       "    <tr>\n",
       "      <th>4</th>\n",
       "      <td>0</td>\n",
       "      <td>['original', 'message', 'grigsby', 'mike', 'se...</td>\n",
       "    </tr>\n",
       "  </tbody>\n",
       "</table>\n",
       "</div>"
      ],
      "text/plain": [
       "   label                                               body\n",
       "0      1  ['content', 'type', 'text', 'charset', 'iso', ...\n",
       "1      1  ['jose', 'password', 'expire', 'kindly', 'upda...\n",
       "2      0  ['new', 'software', 'feature', 'like', 'theate...\n",
       "3      1  ['message', 'trust', 'sender', 'apple', 'accou...\n",
       "4      0  ['original', 'message', 'grigsby', 'mike', 'se..."
      ]
     },
     "execution_count": 19,
     "metadata": {},
     "output_type": "execute_result"
    }
   ],
   "source": [
    "mix_dataset = pd.concat([phishingDataFrame, legitimateDataFrame], ignore_index=True)\n",
    "mix_dataset = mix_dataset.sample(frac=1, random_state=1769).reset_index(drop=True)\n",
    "mix_dataset.head()"
   ]
  },
  {
   "cell_type": "code",
   "execution_count": 20,
   "metadata": {},
   "outputs": [
    {
     "name": "stdout",
     "output_type": "stream",
     "text": [
      "Saving to /home/khanhnguyen/Public/workspace/python_3.10/project-phishing-email-detection/datasets/csv/mix_dataset.csv\n"
     ]
    }
   ],
   "source": [
    "raw_utils.save_to_csv(mix_dataset, csv_path, 'mix_dataset.csv')"
   ]
  },
  {
   "cell_type": "code",
   "execution_count": 21,
   "metadata": {},
   "outputs": [],
   "source": [
    "train_dataset, test_dataset = util.dataset_split(mix_dataset, percent=20)"
   ]
  },
  {
   "cell_type": "code",
   "execution_count": 22,
   "metadata": {},
   "outputs": [
    {
     "name": "stdout",
     "output_type": "stream",
     "text": [
      "Saving to /home/khanhnguyen/Public/workspace/python_3.10/project-phishing-email-detection/datasets/csv/train_dataset.csv\n",
      "Saving to /home/khanhnguyen/Public/workspace/python_3.10/project-phishing-email-detection/datasets/csv/test_dataset.csv\n"
     ]
    }
   ],
   "source": [
    "raw_utils.save_to_csv(train_dataset, csv_path, 'train_dataset.csv')\n",
    "raw_utils.save_to_csv(test_dataset, csv_path, 'test_dataset.csv')"
   ]
  }
 ],
 "metadata": {
  "kernelspec": {
   "display_name": "newenv",
   "language": "python",
   "name": "python3"
  },
  "language_info": {
   "codemirror_mode": {
    "name": "ipython",
    "version": 3
   },
   "file_extension": ".py",
   "mimetype": "text/x-python",
   "name": "python",
   "nbconvert_exporter": "python",
   "pygments_lexer": "ipython3",
   "version": "3.10.15"
  }
 },
 "nbformat": 4,
 "nbformat_minor": 2
}
