{
 "cells": [
  {
   "cell_type": "markdown",
   "metadata": {},
   "source": [
    "## Preprocessing"
   ]
  },
  {
   "cell_type": "code",
   "execution_count": 73,
   "metadata": {},
   "outputs": [
    {
     "name": "stderr",
     "output_type": "stream",
     "text": [
      "[nltk_data] Downloading package stopwords to\n",
      "[nltk_data]     /home/khanhnguyen/nltk_data...\n",
      "[nltk_data]   Package stopwords is already up-to-date!\n",
      "[nltk_data] Downloading package vader_lexicon to\n",
      "[nltk_data]     /home/khanhnguyen/nltk_data...\n",
      "[nltk_data]   Package vader_lexicon is already up-to-date!\n"
     ]
    }
   ],
   "source": [
    "import gensim\n",
    "from gensim.models import Word2Vec\n",
    "from gensim.parsing.preprocessing import *\n",
    "# NLP with NLTK\n",
    "import nltk\n",
    "nltk.download(\"stopwords\")\n",
    "nltk.download('vader_lexicon')\n",
    "from nltk.sentiment import SentimentIntensityAnalyzer\n",
    "from nltk.stem.wordnet import WordNetLemmatizer\n",
    "from nltk.corpus import wordnet\n",
    "import os\n",
    "import raw_utils\n",
    "\n",
    "import pandas as pd\n",
    "import preprocessing as util"
   ]
  },
  {
   "cell_type": "code",
   "execution_count": 74,
   "metadata": {},
   "outputs": [],
   "source": [
    "cwd = os.getcwd()\n",
    "csv_path = os.path.join(cwd, 'datasets/csv/')\n",
    "\n",
    "phishing_csv = 'raw_phishing.csv'\n",
    "legitimate_csv = 'raw_legitimate.csv'"
   ]
  },
  {
   "cell_type": "code",
   "execution_count": 75,
   "metadata": {},
   "outputs": [],
   "source": [
    "phishing_text_raw = pd.read_csv(os.path.join(csv_path, phishing_csv), index_col=0, dtype={'body': 'object'})\n",
    "legitimate_text_raw = pd.read_csv(os.path.join(csv_path, legitimate_csv), index_col=0, dtype={'body': 'object'})"
   ]
  },
  {
   "cell_type": "code",
   "execution_count": 76,
   "metadata": {},
   "outputs": [
    {
     "data": {
      "text/html": [
       "<div>\n",
       "<style scoped>\n",
       "    .dataframe tbody tr th:only-of-type {\n",
       "        vertical-align: middle;\n",
       "    }\n",
       "\n",
       "    .dataframe tbody tr th {\n",
       "        vertical-align: top;\n",
       "    }\n",
       "\n",
       "    .dataframe thead th {\n",
       "        text-align: right;\n",
       "    }\n",
       "</style>\n",
       "<table border=\"1\" class=\"dataframe\">\n",
       "  <thead>\n",
       "    <tr style=\"text-align: right;\">\n",
       "      <th></th>\n",
       "      <th>body</th>\n",
       "    </tr>\n",
       "  </thead>\n",
       "  <tbody>\n",
       "    <tr>\n",
       "      <th>0</th>\n",
       "      <td>NaN</td>\n",
       "    </tr>\n",
       "    <tr>\n",
       "      <th>1</th>\n",
       "      <td>&lt;HTML&gt;\\n&lt;BODY&gt;\\n&lt;font face=\"arial\" size=\"5\" co...</td>\n",
       "    </tr>\n",
       "    <tr>\n",
       "      <th>2</th>\n",
       "      <td>ID: jose@monkey.org\\nYour jose@monkey.org pass...</td>\n",
       "    </tr>\n",
       "    <tr>\n",
       "      <th>3</th>\n",
       "      <td>=3Ctable border=3D0 width=3D=22100=25=22 cellp...</td>\n",
       "    </tr>\n",
       "    <tr>\n",
       "      <th>4</th>\n",
       "      <td>Your account has 1 New Alert, received on 20/0...</td>\n",
       "    </tr>\n",
       "  </tbody>\n",
       "</table>\n",
       "</div>"
      ],
      "text/plain": [
       "                                                body\n",
       "0                                                NaN\n",
       "1  <HTML>\\n<BODY>\\n<font face=\"arial\" size=\"5\" co...\n",
       "2  ID: jose@monkey.org\\nYour jose@monkey.org pass...\n",
       "3  =3Ctable border=3D0 width=3D=22100=25=22 cellp...\n",
       "4  Your account has 1 New Alert, received on 20/0..."
      ]
     },
     "execution_count": 76,
     "metadata": {},
     "output_type": "execute_result"
    }
   ],
   "source": [
    "phishing_text_raw.head()"
   ]
  },
  {
   "cell_type": "code",
   "execution_count": 77,
   "metadata": {},
   "outputs": [
    {
     "data": {
      "text/plain": [
       "0       Matthias Saou (matthias@rpmforge.net) wrote*:\\...\n",
       "1       |:::::::::::::::::::::::::::::::::::::::::::::...\n",
       "2       Hello Bill,\\n\\nMonday, September 30, 2002, 5:4...\n",
       "3       >>>Chris Garrigues said:\\n > > From:  Brent We...\n",
       "4       from slate's \"today's papers\":  \\nThe New York...\n",
       "                              ...                        \n",
       "6573     <http://www.sportsline.com/links/6/1/163/sffe...\n",
       "6574    \\nAs much as I'd like to, I can't get to every...\n",
       "6575    Darrell,\\n\\nBen at Conoco would like to know t...\n",
       "6576    Just to keep you in the loop.   I am addressin...\n",
       "6577    I was looking for tommorow.   I'll pass on ton...\n",
       "Name: body, Length: 6578, dtype: object"
      ]
     },
     "execution_count": 77,
     "metadata": {},
     "output_type": "execute_result"
    }
   ],
   "source": [
    "legitimate_text_raw['body']"
   ]
  },
  {
   "cell_type": "markdown",
   "metadata": {},
   "source": [
    "## Cleanup"
   ]
  },
  {
   "cell_type": "code",
   "execution_count": 78,
   "metadata": {},
   "outputs": [
    {
     "data": {
      "text/plain": [
       "(4922, 1)"
      ]
     },
     "execution_count": 78,
     "metadata": {},
     "output_type": "execute_result"
    }
   ],
   "source": [
    "phishing_text_raw = phishing_text_raw.dropna()\n",
    "phishing_text = phishing_text_raw[phishing_text_raw['body'].str.contains(\"This text is part of the internal format of your mail folder, and is not\\na real message.\") == False]\n",
    "phishing_text = phishing_text[phishing_text.duplicated(keep='first') == False]\n",
    "phishing_text.shape"
   ]
  },
  {
   "cell_type": "code",
   "execution_count": 79,
   "metadata": {},
   "outputs": [
    {
     "data": {
      "text/plain": [
       "(6373, 1)"
      ]
     },
     "execution_count": 79,
     "metadata": {},
     "output_type": "execute_result"
    }
   ],
   "source": [
    "legitimate_text_raw = legitimate_text_raw.dropna()\n",
    "legitimate_text = legitimate_text_raw[legitimate_text_raw['body'].str.contains(\"This text is part of the internal format of your mail folder, and is not\\na real message.\") == False]\n",
    "legitimate_text = legitimate_text[legitimate_text.duplicated(keep='first') == False]\n",
    "legitimate_text.shape"
   ]
  },
  {
   "cell_type": "code",
   "execution_count": 80,
   "metadata": {},
   "outputs": [],
   "source": [
    "phishing_text['body'] = phishing_text['body'].apply(util.replace_email)\n",
    "phishing_text['body'] = phishing_text['body'].apply(util.replace_url)"
   ]
  },
  {
   "cell_type": "code",
   "execution_count": 81,
   "metadata": {},
   "outputs": [
    {
     "data": {
      "text/plain": [
       "'ID: <emailaddress>\\nYour <emailaddress> password expires today  10/23/2023 2:19:09 a.m.\\nUse the button below to continue with same password\\nContinue <<urladdress><emailaddress>>\\nNote: Your mails may not be delivered until you verify your account.\\nSincerely,\\n<urladdress> Support Team.'"
      ]
     },
     "execution_count": 81,
     "metadata": {},
     "output_type": "execute_result"
    }
   ],
   "source": [
    "phishing_text['body'].iloc[1]"
   ]
  },
  {
   "cell_type": "code",
   "execution_count": 82,
   "metadata": {},
   "outputs": [],
   "source": [
    "legitimate_text['body'] = legitimate_text['body'].apply(util.replace_email)\n",
    "legitimate_text['body'] = legitimate_text['body'].apply(util.replace_url)"
   ]
  },
  {
   "cell_type": "code",
   "execution_count": null,
   "metadata": {},
   "outputs": [
    {
     "data": {
      "text/html": [
       "<div>\n",
       "<style scoped>\n",
       "    .dataframe tbody tr th:only-of-type {\n",
       "        vertical-align: middle;\n",
       "    }\n",
       "\n",
       "    .dataframe tbody tr th {\n",
       "        vertical-align: top;\n",
       "    }\n",
       "\n",
       "    .dataframe thead th {\n",
       "        text-align: right;\n",
       "    }\n",
       "</style>\n",
       "<table border=\"1\" class=\"dataframe\">\n",
       "  <thead>\n",
       "    <tr style=\"text-align: right;\">\n",
       "      <th></th>\n",
       "      <th>body</th>\n",
       "      <th>label</th>\n",
       "    </tr>\n",
       "  </thead>\n",
       "  <tbody>\n",
       "    <tr>\n",
       "      <th>0</th>\n",
       "      <td>Access to the Internet and Intranet is current...</td>\n",
       "      <td>0</td>\n",
       "    </tr>\n",
       "    <tr>\n",
       "      <th>1</th>\n",
       "      <td>Sara and Marie, \\n\\nMike Kustra was in to meet...</td>\n",
       "      <td>0</td>\n",
       "    </tr>\n",
       "    <tr>\n",
       "      <th>2</th>\n",
       "      <td>-----Original Message-----\\nFrom: \\tSanders, R...</td>\n",
       "      <td>0</td>\n",
       "    </tr>\n",
       "    <tr>\n",
       "      <th>3</th>\n",
       "      <td>Mailbox usage\\n    \\n    \\n\\t  \\n\\n Has used 1...</td>\n",
       "      <td>1</td>\n",
       "    </tr>\n",
       "    <tr>\n",
       "      <th>4</th>\n",
       "      <td>InfoByTel: Your Personal Sales Assistant!\\n\\n ...</td>\n",
       "      <td>1</td>\n",
       "    </tr>\n",
       "  </tbody>\n",
       "</table>\n",
       "</div>"
      ],
      "text/plain": [
       "                                                body  label\n",
       "0  Access to the Internet and Intranet is current...      0\n",
       "1  Sara and Marie, \\n\\nMike Kustra was in to meet...      0\n",
       "2  -----Original Message-----\\nFrom: \\tSanders, R...      0\n",
       "3  Mailbox usage\\n    \\n    \\n\\t  \\n\\n Has used 1...      1\n",
       "4  InfoByTel: Your Personal Sales Assistant!\\n\\n ...      1"
      ]
     },
     "execution_count": 83,
     "metadata": {},
     "output_type": "execute_result"
    }
   ],
   "source": [
    "phishing_preprocessed_text = phishing_text.copy()\n",
    "legitimate_preprocessed_text = legitimate_text.copy()\n",
    "phishing_preprocessed_text['body'] = phishing_preprocessed_text['body'].apply(util.sanitize_whitespace)\n",
    "legitimate_preprocessed_text['body'] = legitimate_preprocessed_text['body'].apply(util.sanitize_whitespace)\n",
    "\n",
    "phishing_preprocessed_text['body'] = phishing_preprocessed_text['body'].apply(util.sanitize_addresses)\n",
    "legitimate_preprocessed_text['body'] = legitimate_preprocessed_text['body'].apply(util.sanitize_addresses)\n",
    "\n",
    "phishing_preprocessed_text['label'] = 1\n",
    "legitimate_preprocessed_text['label'] = 0\n",
    "\n",
    "mix_dataset_text = pd.concat([phishing_preprocessed_text, legitimate_preprocessed_text], ignore_index=True)\n",
    "mix_dataset_text = mix_dataset_text.sample(frac=1, random_state=1769).reset_index(drop=True)\n",
    "mix_dataset_text = mix_dataset_text[mix_dataset_text['body'].astype(bool)]\n",
    "mix_dataset_text.head()"
   ]
  },
  {
   "cell_type": "code",
   "execution_count": 84,
   "metadata": {},
   "outputs": [
    {
     "name": "stdout",
     "output_type": "stream",
     "text": [
      "File /home/khanhnguyen/Public/workspace/python_3.10/project-phishing-email-detection/datasets/csv/dataset_text.csv already exists.\n",
      "File /home/khanhnguyen/Public/workspace/python_3.10/project-phishing-email-detection/datasets/csv/dataset_text.csv will be overwritten.\n"
     ]
    }
   ],
   "source": [
    "raw_utils.save_to_csv(mix_dataset_text, csv_path, 'dataset_text.csv')"
   ]
  },
  {
   "cell_type": "code",
   "execution_count": 85,
   "metadata": {},
   "outputs": [],
   "source": [
    "# Custom stop words and preprocessing filters\n",
    "\n",
    "stopWords = nltk.corpus.stopwords\n",
    "stopWords = stopWords.words(\"english\")\n",
    "stopWords.extend([\"nbsp\", \"font\", \"sans\", \"serif\", \"bold\", \"arial\", \"verdana\", \"helvetica\", \"http\", \"https\", \"www\", \"html\", \"enron\", \"margin\", \"spamassassin\"])\n",
    "\n",
    "def remove_custom_stopwords(p):\n",
    "    return remove_stopwords(p, stopwords=stopWords)\n",
    "\n",
    "def get_wordnet_pos(treebank_tag):\n",
    "    if treebank_tag.startswith('J'):\n",
    "        return wordnet.ADJ\n",
    "    elif treebank_tag.startswith('V'):\n",
    "        return wordnet.VERB\n",
    "    elif treebank_tag.startswith('N'):\n",
    "        return wordnet.NOUN\n",
    "    elif treebank_tag.startswith('R'):\n",
    "        return wordnet.ADV\n",
    "    else:\n",
    "        return None\n",
    "def lemmatize(text):\n",
    "    lemmatizer = WordNetLemmatizer()\n",
    "    tokens = nltk.word_tokenize(text)\n",
    "    tagged_tokens = nltk.pos_tag(tokens)\n",
    "\n",
    "    lemmatized_tokens = [\n",
    "        lemmatizer.lemmatize(word, pos=get_wordnet_pos(tag))\n",
    "        if get_wordnet_pos(tag)\n",
    "        else lemmatizer.lemmatize(word)\n",
    "        for word, tag in tagged_tokens\n",
    "    ]\n",
    "    return ' '.join(lemmatized_tokens)\n",
    "stem_text\n",
    "CUSTOM_FILTERS = [lambda x: x.lower(), strip_tags, strip_punctuation, strip_multiple_whitespaces, strip_numeric, remove_custom_stopwords, remove_stopwords, strip_short, lemmatize]"
   ]
  },
  {
   "cell_type": "code",
   "execution_count": 86,
   "metadata": {},
   "outputs": [],
   "source": [
    "# Decode to utf-8 as needed\n",
    "\n",
    "phishingDecoded = []\n",
    "for b in phishing_text['body'].tolist():\n",
    "    try:\n",
    "        p = b.decode(\"utf-8\", errors=\"ignore\")\n",
    "    except AttributeError:\n",
    "        p = b\n",
    "    phishingDecoded.append(p)\n",
    "\n",
    "legitimateDecoded = []\n",
    "for b in legitimate_text['body'].tolist():\n",
    "    try:\n",
    "        p = b.decode(\"utf-8\", errors=\"ignore\")\n",
    "    except AttributeError:\n",
    "        p = b\n",
    "    legitimateDecoded.append(p)"
   ]
  },
  {
   "cell_type": "code",
   "execution_count": 87,
   "metadata": {},
   "outputs": [
    {
     "name": "stdout",
     "output_type": "stream",
     "text": [
      "4922\n"
     ]
    }
   ],
   "source": [
    "# Phishing emails\n",
    "phishingPreprocessed = []\n",
    "for b in phishingDecoded:\n",
    "    p = preprocess_string(b, filters=CUSTOM_FILTERS)\n",
    "    \n",
    "    phishingPreprocessed.append(p)\n",
    "print(len(phishingPreprocessed))"
   ]
  },
  {
   "cell_type": "code",
   "execution_count": 88,
   "metadata": {},
   "outputs": [
    {
     "name": "stdout",
     "output_type": "stream",
     "text": [
      "6373\n"
     ]
    }
   ],
   "source": [
    "# legitimate emails\n",
    "legitimatePreprocessed = []\n",
    "for b in legitimateDecoded:\n",
    "    p = preprocess_string(b, filters=CUSTOM_FILTERS)\n",
    "    \n",
    "    legitimatePreprocessed.append(p)\n",
    "print(len(legitimatePreprocessed))"
   ]
  },
  {
   "cell_type": "code",
   "execution_count": 89,
   "metadata": {},
   "outputs": [],
   "source": [
    "# Lọc và loại bỏ các token list rỗng\n",
    "phishingPreprocessed = [tokens for tokens in phishingPreprocessed if tokens]\n",
    "\n",
    "# Chuyển danh sách 2 chiều thành danh sách 1 chiều với định dạng chuỗi\n",
    "phishingPreprocessed = [str(tokens) for tokens in phishingPreprocessed]\n",
    "phishingDataFrame = pd.DataFrame(phishingPreprocessed, columns=['body'])\n",
    "phishingDataFrame['label'] = 1\n",
    "phishingDataFrame = phishingDataFrame[['label', 'body']]"
   ]
  },
  {
   "cell_type": "code",
   "execution_count": 90,
   "metadata": {},
   "outputs": [
    {
     "data": {
      "text/html": [
       "<div>\n",
       "<style scoped>\n",
       "    .dataframe tbody tr th:only-of-type {\n",
       "        vertical-align: middle;\n",
       "    }\n",
       "\n",
       "    .dataframe tbody tr th {\n",
       "        vertical-align: top;\n",
       "    }\n",
       "\n",
       "    .dataframe thead th {\n",
       "        text-align: right;\n",
       "    }\n",
       "</style>\n",
       "<table border=\"1\" class=\"dataframe\">\n",
       "  <thead>\n",
       "    <tr style=\"text-align: right;\">\n",
       "      <th></th>\n",
       "      <th>label</th>\n",
       "      <th>body</th>\n",
       "    </tr>\n",
       "  </thead>\n",
       "  <tbody>\n",
       "    <tr>\n",
       "      <th>0</th>\n",
       "      <td>1</td>\n",
       "      <td>['save', 'life', 'insurance', 'check', 'price'...</td>\n",
       "    </tr>\n",
       "    <tr>\n",
       "      <th>1</th>\n",
       "      <td>1</td>\n",
       "      <td>['password', 'expire', 'today', 'use', 'button...</td>\n",
       "    </tr>\n",
       "    <tr>\n",
       "      <th>2</th>\n",
       "      <td>1</td>\n",
       "      <td>['ctable', 'border', 'width', 'cellpadding', '...</td>\n",
       "    </tr>\n",
       "    <tr>\n",
       "      <th>3</th>\n",
       "      <td>1</td>\n",
       "      <td>['account', 'new', 'alert', 'receive', 'click'...</td>\n",
       "    </tr>\n",
       "    <tr>\n",
       "      <th>4</th>\n",
       "      <td>1</td>\n",
       "      <td>['fwd', 'remit', 'waste', 'management', 'invoi...</td>\n",
       "    </tr>\n",
       "  </tbody>\n",
       "</table>\n",
       "</div>"
      ],
      "text/plain": [
       "   label                                               body\n",
       "0      1  ['save', 'life', 'insurance', 'check', 'price'...\n",
       "1      1  ['password', 'expire', 'today', 'use', 'button...\n",
       "2      1  ['ctable', 'border', 'width', 'cellpadding', '...\n",
       "3      1  ['account', 'new', 'alert', 'receive', 'click'...\n",
       "4      1  ['fwd', 'remit', 'waste', 'management', 'invoi..."
      ]
     },
     "execution_count": 90,
     "metadata": {},
     "output_type": "execute_result"
    }
   ],
   "source": [
    "phishingDataFrame.head()"
   ]
  },
  {
   "cell_type": "code",
   "execution_count": 91,
   "metadata": {},
   "outputs": [],
   "source": [
    "legitimatePreprocessed = [tokens for tokens in legitimatePreprocessed if tokens]\n",
    "legitimatePreprocessed = [str(tokens) for tokens in legitimatePreprocessed]\n",
    "legitimateDataFrame = pd.DataFrame(legitimatePreprocessed, columns=['body'])\n",
    "legitimateDataFrame['label'] = 0\n",
    "# Đổi thứ tự cột sao cho 'label' đứng trước 'body'\n",
    "legitimateDataFrame = legitimateDataFrame[['label', 'body']]"
   ]
  },
  {
   "cell_type": "code",
   "execution_count": 92,
   "metadata": {},
   "outputs": [
    {
     "data": {
      "text/html": [
       "<div>\n",
       "<style scoped>\n",
       "    .dataframe tbody tr th:only-of-type {\n",
       "        vertical-align: middle;\n",
       "    }\n",
       "\n",
       "    .dataframe tbody tr th {\n",
       "        vertical-align: top;\n",
       "    }\n",
       "\n",
       "    .dataframe thead th {\n",
       "        text-align: right;\n",
       "    }\n",
       "</style>\n",
       "<table border=\"1\" class=\"dataframe\">\n",
       "  <thead>\n",
       "    <tr style=\"text-align: right;\">\n",
       "      <th></th>\n",
       "      <th>label</th>\n",
       "      <th>body</th>\n",
       "    </tr>\n",
       "  </thead>\n",
       "  <tbody>\n",
       "    <tr>\n",
       "      <th>0</th>\n",
       "      <td>0</td>\n",
       "      <td>['matthias', 'saou', 'write', 'install', 'xmms...</td>\n",
       "    </tr>\n",
       "    <tr>\n",
       "      <th>1</th>\n",
       "      <td>0</td>\n",
       "      <td>['monday', 'september', 'student', 'life', 'be...</td>\n",
       "    </tr>\n",
       "    <tr>\n",
       "      <th>2</th>\n",
       "      <td>0</td>\n",
       "      <td>['hello', 'monday', 'september', 'write', 'thi...</td>\n",
       "    </tr>\n",
       "    <tr>\n",
       "      <th>3</th>\n",
       "      <td>0</td>\n",
       "      <td>['chris', 'garrigues', 'say', 'brent', 'welch'...</td>\n",
       "    </tr>\n",
       "    <tr>\n",
       "      <th>4</th>\n",
       "      <td>0</td>\n",
       "      <td>['slate', 'today', 'paper', 'new', 'york', 'ti...</td>\n",
       "    </tr>\n",
       "  </tbody>\n",
       "</table>\n",
       "</div>"
      ],
      "text/plain": [
       "   label                                               body\n",
       "0      0  ['matthias', 'saou', 'write', 'install', 'xmms...\n",
       "1      0  ['monday', 'september', 'student', 'life', 'be...\n",
       "2      0  ['hello', 'monday', 'september', 'write', 'thi...\n",
       "3      0  ['chris', 'garrigues', 'say', 'brent', 'welch'...\n",
       "4      0  ['slate', 'today', 'paper', 'new', 'york', 'ti..."
      ]
     },
     "execution_count": 92,
     "metadata": {},
     "output_type": "execute_result"
    }
   ],
   "source": [
    "legitimateDataFrame.head()"
   ]
  },
  {
   "cell_type": "code",
   "execution_count": null,
   "metadata": {},
   "outputs": [
    {
     "data": {
      "text/html": [
       "<div>\n",
       "<style scoped>\n",
       "    .dataframe tbody tr th:only-of-type {\n",
       "        vertical-align: middle;\n",
       "    }\n",
       "\n",
       "    .dataframe tbody tr th {\n",
       "        vertical-align: top;\n",
       "    }\n",
       "\n",
       "    .dataframe thead th {\n",
       "        text-align: right;\n",
       "    }\n",
       "</style>\n",
       "<table border=\"1\" class=\"dataframe\">\n",
       "  <thead>\n",
       "    <tr style=\"text-align: right;\">\n",
       "      <th></th>\n",
       "      <th>label</th>\n",
       "      <th>body</th>\n",
       "    </tr>\n",
       "  </thead>\n",
       "  <tbody>\n",
       "    <tr>\n",
       "      <th>0</th>\n",
       "      <td>0</td>\n",
       "      <td>['start', 'date', 'hourahead', 'hour', 'ancill...</td>\n",
       "    </tr>\n",
       "    <tr>\n",
       "      <th>1</th>\n",
       "      <td>0</td>\n",
       "      <td>['tue', 'oct', 'ben', 'liblit', 'write', 'ick'...</td>\n",
       "    </tr>\n",
       "    <tr>\n",
       "      <th>2</th>\n",
       "      <td>1</td>\n",
       "      <td>['want', 'million', 'buck', 'year', 'probably'...</td>\n",
       "    </tr>\n",
       "    <tr>\n",
       "      <th>3</th>\n",
       "      <td>0</td>\n",
       "      <td>['mark', 'initial', 'test', 'delay', 'able', '...</td>\n",
       "    </tr>\n",
       "    <tr>\n",
       "      <th>4</th>\n",
       "      <td>1</td>\n",
       "      <td>['multi', 'message', 'mime', 'format', 'conten...</td>\n",
       "    </tr>\n",
       "  </tbody>\n",
       "</table>\n",
       "</div>"
      ],
      "text/plain": [
       "   label                                               body\n",
       "0      0  ['start', 'date', 'hourahead', 'hour', 'ancill...\n",
       "1      0  ['tue', 'oct', 'ben', 'liblit', 'write', 'ick'...\n",
       "2      1  ['want', 'million', 'buck', 'year', 'probably'...\n",
       "3      0  ['mark', 'initial', 'test', 'delay', 'able', '...\n",
       "4      1  ['multi', 'message', 'mime', 'format', 'conten..."
      ]
     },
     "execution_count": 93,
     "metadata": {},
     "output_type": "execute_result"
    }
   ],
   "source": [
    "mix_dataset = pd.concat([phishingDataFrame, legitimateDataFrame], ignore_index=True)\n",
    "mix_dataset = mix_dataset.sample(frac=1, random_state=1769).reset_index(drop=True)\n",
    "mix_dataset.head()"
   ]
  },
  {
   "cell_type": "code",
   "execution_count": 94,
   "metadata": {},
   "outputs": [
    {
     "name": "stdout",
     "output_type": "stream",
     "text": [
      "File /home/khanhnguyen/Public/workspace/python_3.10/project-phishing-email-detection/datasets/csv/mix_dataset.csv already exists.\n",
      "File /home/khanhnguyen/Public/workspace/python_3.10/project-phishing-email-detection/datasets/csv/mix_dataset.csv will be overwritten.\n"
     ]
    }
   ],
   "source": [
    "raw_utils.save_to_csv(mix_dataset, csv_path, 'mix_dataset.csv')"
   ]
  },
  {
   "cell_type": "code",
   "execution_count": 95,
   "metadata": {},
   "outputs": [],
   "source": [
    "train_dataset, test_dataset = util.dataset_split(mix_dataset, percent=20)"
   ]
  },
  {
   "cell_type": "code",
   "execution_count": 96,
   "metadata": {},
   "outputs": [
    {
     "name": "stdout",
     "output_type": "stream",
     "text": [
      "File /home/khanhnguyen/Public/workspace/python_3.10/project-phishing-email-detection/datasets/csv/train_dataset.csv already exists.\n",
      "File /home/khanhnguyen/Public/workspace/python_3.10/project-phishing-email-detection/datasets/csv/train_dataset.csv will be overwritten.\n",
      "File /home/khanhnguyen/Public/workspace/python_3.10/project-phishing-email-detection/datasets/csv/test_dataset.csv already exists.\n",
      "File /home/khanhnguyen/Public/workspace/python_3.10/project-phishing-email-detection/datasets/csv/test_dataset.csv will be overwritten.\n"
     ]
    }
   ],
   "source": [
    "raw_utils.save_to_csv(train_dataset, csv_path, 'train_dataset.csv')\n",
    "raw_utils.save_to_csv(test_dataset, csv_path, 'test_dataset.csv')"
   ]
  }
 ],
 "metadata": {
  "kernelspec": {
   "display_name": "newenv",
   "language": "python",
   "name": "python3"
  },
  "language_info": {
   "codemirror_mode": {
    "name": "ipython",
    "version": 3
   },
   "file_extension": ".py",
   "mimetype": "text/x-python",
   "name": "python",
   "nbconvert_exporter": "python",
   "pygments_lexer": "ipython3",
   "version": "3.10.15"
  }
 },
 "nbformat": 4,
 "nbformat_minor": 2
}
